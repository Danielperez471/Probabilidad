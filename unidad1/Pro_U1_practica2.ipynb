{
  "nbformat": 4,
  "nbformat_minor": 0,
  "metadata": {
    "colab": {
      "provenance": []
    },
    "kernelspec": {
      "name": "python3",
      "display_name": "Python 3"
    },
    "language_info": {
      "name": "python"
    }
  },
  "cells": [
    {
      "cell_type": "markdown",
      "source": [
        "**PROBABILIDAD Y ESTADISTICA**\n",
        "### FACILITADOR: josé Gabriel Rodriguez Rivas\n",
        "### alumno: Daniel Alonso Perez Macias\n",
        ""
      ],
      "metadata": {
        "id": "Rhmq4nieBSlE"
      }
    },
    {
      "cell_type": "code",
      "execution_count": 1,
      "metadata": {
        "id": "kXV2VtkFsw6i"
      },
      "outputs": [],
      "source": [
        "from statistics import*"
      ]
    },
    {
      "cell_type": "code",
      "source": [
        "#Lista de calificaciones de probabilodad del grupo a\n",
        "grupoa=[70, 70, 65, 90, 100, 95, 45, 80, 73, 20, 100, 96]\n",
        "print(grupoa)"
      ],
      "metadata": {
        "colab": {
          "base_uri": "https://localhost:8080/"
        },
        "id": "3046VSkbwl4J",
        "outputId": "cf085043-3a32-4540-8d88-6250ff32f8db"
      },
      "execution_count": 2,
      "outputs": [
        {
          "output_type": "stream",
          "name": "stdout",
          "text": [
            "[70, 70, 65, 90, 100, 95, 45, 80, 73, 20, 100, 96]\n"
          ]
        }
      ]
    },
    {
      "cell_type": "code",
      "source": [
        "#La funcion \"type\" nos devuelve el tipo de dato\n",
        "type(grupoa)"
      ],
      "metadata": {
        "colab": {
          "base_uri": "https://localhost:8080/"
        },
        "id": "CcFYstYy2b1Y",
        "outputId": "0b95c112-8537-47db-cb39-42da47a4a694"
      },
      "execution_count": 3,
      "outputs": [
        {
          "output_type": "execute_result",
          "data": {
            "text/plain": [
              "list"
            ]
          },
          "metadata": {},
          "execution_count": 3
        }
      ]
    },
    {
      "cell_type": "code",
      "source": [
        "#sacar la media con una formula\n",
        "prom = sum(grupoa) / len(grupoa)\n",
        "print(prom)"
      ],
      "metadata": {
        "colab": {
          "base_uri": "https://localhost:8080/"
        },
        "id": "8Nsi_AcWxx1J",
        "outputId": "3bd029c8-1d70-4f62-80c9-19932fc751c1"
      },
      "execution_count": 4,
      "outputs": [
        {
          "output_type": "stream",
          "name": "stdout",
          "text": [
            "75.33333333333333\n"
          ]
        }
      ]
    },
    {
      "cell_type": "code",
      "source": [
        "#\"mean\" se usa para sacar el promedio\n",
        "prom2= mean(grupoa)\n",
        "print(prom2)"
      ],
      "metadata": {
        "colab": {
          "base_uri": "https://localhost:8080/"
        },
        "id": "UcUOPqY3yIUJ",
        "outputId": "2da144de-1a3a-4b15-a237-f61a12639e78"
      },
      "execution_count": 5,
      "outputs": [
        {
          "output_type": "stream",
          "name": "stdout",
          "text": [
            "75.33333333333333\n"
          ]
        }
      ]
    },
    {
      "cell_type": "code",
      "source": [
        "prom3=median(grupoa)\n",
        "print(prom3)"
      ],
      "metadata": {
        "id": "jRR59rYFym--",
        "colab": {
          "base_uri": "https://localhost:8080/"
        },
        "outputId": "5a68b647-cc31-4b89-8f2d-54ba52b084ee"
      },
      "execution_count": 6,
      "outputs": [
        {
          "output_type": "stream",
          "name": "stdout",
          "text": [
            "76.5\n"
          ]
        }
      ]
    },
    {
      "cell_type": "code",
      "source": [
        "prom4= mode(grupoa)\n",
        "print(prom4)"
      ],
      "metadata": {
        "colab": {
          "base_uri": "https://localhost:8080/"
        },
        "id": "Tc94P2KQ4e0o",
        "outputId": "55753a07-48ac-4ab6-e48d-202dd706812e"
      },
      "execution_count": 7,
      "outputs": [
        {
          "output_type": "stream",
          "name": "stdout",
          "text": [
            "70\n"
          ]
        }
      ]
    },
    {
      "cell_type": "code",
      "source": [
        "mts=[15.10, 17.20, 14.69, 13.27, 22.15, 18.71, 19.15, 20.65, 15.10, .20]\n",
        "print(mts)"
      ],
      "metadata": {
        "colab": {
          "base_uri": "https://localhost:8080/"
        },
        "id": "5d94yAdu4nt_",
        "outputId": "38c241d0-e6ed-4566-900b-8ccbcb2f5355"
      },
      "execution_count": 8,
      "outputs": [
        {
          "output_type": "stream",
          "name": "stdout",
          "text": [
            "[15.1, 17.2, 14.69, 13.27, 22.15, 18.71, 19.15, 20.65, 15.1, 0.2]\n"
          ]
        }
      ]
    },
    {
      "cell_type": "code",
      "source": [
        "#La media se saca con \"mean\"\n",
        "print(\"El tiempo promedio de los corredores es: \", mean(mts))\n",
        "#la mediana se saca con \"median\"\n",
        "print(\"\\nLa mediana es: \",median(mts))\n",
        "#la moda se saca con \"mode\"\n",
        "print(\"\\nLa moda del timpo que hacen los corredores es:\", mode(mts))\n",
        "print(\"\\nLa moda es: \",multimode(mts))"
      ],
      "metadata": {
        "colab": {
          "base_uri": "https://localhost:8080/"
        },
        "id": "edvayrYg6G2B",
        "outputId": "f379a471-80d9-484c-e6eb-30ab1a29aaf9"
      },
      "execution_count": 9,
      "outputs": [
        {
          "output_type": "stream",
          "name": "stdout",
          "text": [
            "El tiempo promedio de los corredores es:  15.622\n",
            "\n",
            "La mediana es:  16.15\n",
            "\n",
            "La moda del timpo que hacen los corredores es: 15.1\n",
            "\n",
            "La moda es:  [15.1]\n"
          ]
        }
      ]
    },
    {
      "cell_type": "code",
      "source": [],
      "metadata": {
        "id": "zNzqZ43y9MhH"
      },
      "execution_count": 9,
      "outputs": []
    }
  ]
}