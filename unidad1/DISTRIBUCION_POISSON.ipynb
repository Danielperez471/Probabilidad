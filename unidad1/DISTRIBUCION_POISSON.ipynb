{
  "nbformat": 4,
  "nbformat_minor": 0,
  "metadata": {
    "colab": {
      "provenance": []
    },
    "kernelspec": {
      "name": "python3",
      "display_name": "Python 3"
    },
    "language_info": {
      "name": "python"
    }
  },
  "cells": [
    {
      "cell_type": "markdown",
      "source": [
        "Daniel Alonso Perez Macias\n",
        "##DISTRIBUCION POISSON\n",
        "\n",
        "EJEMPLO 1\n"
      ],
      "metadata": {
        "id": "37Mq5yCNi06J"
      }
    },
    {
      "cell_type": "code",
      "execution_count": 2,
      "metadata": {
        "id": "yQT79SFOi0R8",
        "colab": {
          "base_uri": "https://localhost:8080/"
        },
        "outputId": "17230c19-af05-4e97-a741-fa8800a98c8a"
      },
      "outputs": [
        {
          "output_type": "stream",
          "name": "stdout",
          "text": [
            "1. Probabilidad de que ho haya accidentes en una semana:  0.1353352832366127\n",
            "2. Probabilidad de que a lo sumo haya 3 accidentes en 2 semanas:  0.43347012036670896\n"
          ]
        }
      ],
      "source": [
        "from scipy.stats import poisson\n",
        "\n",
        "#parametros de la distribucion de Poisson\n",
        "media_accidentes =2\n",
        "#parte 1: Probabilidad de que no haya accidentes en 1 semana\n",
        "pro_0_acc = poisson.pmf(0, media_accidentes)\n",
        "\n",
        "print(\"1. Probabilidad de que ho haya accidentes en una semana: \", pro_0_acc)\n",
        "\n",
        "#Parte 2: probabilidad de que a lo sumo haya 3 accidentes en 2 semanas\n",
        "#Convertirmos la media a una media para 2 semanas\n",
        "media_2_sem = media_accidentes * 2\n",
        "\n",
        "#Calculamos la probabilidad acumulada hasta 3 accidentes en 2 semanas\n",
        "probabilidad_3_menos_accidentes = poisson.cdf(3, media_2_sem)\n",
        "\n",
        "print(\"2. Probabilidad de que a lo sumo haya 3 accidentes en 2 semanas: \", probabilidad_3_menos_accidentes)"
      ]
    },
    {
      "cell_type": "markdown",
      "source": [
        "EJEMPLO 2\n"
      ],
      "metadata": {
        "id": "aB9c7VtOlXD8"
      }
    },
    {
      "cell_type": "code",
      "source": [
        "from scipy.stats import poisson\n",
        "\n",
        "#parametros de la distribucion de poisson\n",
        "media_muertes = 5000*0.001 #5000 hombres con una probabilidad de muerte de 0.001\n",
        "\n",
        "#numero de reclamaciones\n",
        "x=4\n",
        "\n",
        "#calcular la probabilidad de que la compañia tenga que pagar 4 reclamaciones en un año determinado\n",
        "probabilidad_4_reclamaciones = poisson.pmf(x, media_muertes)\n",
        "\n",
        "print(\"La probabilidad de que la compañia tenga que pagar 4 reclamaciones es de: \",probabilidad_4_reclamaciones)"
      ],
      "metadata": {
        "id": "Di1AQi8ulYe8",
        "colab": {
          "base_uri": "https://localhost:8080/"
        },
        "outputId": "743914c8-14a9-47c9-9bc4-d2138ef78a73"
      },
      "execution_count": 4,
      "outputs": [
        {
          "output_type": "stream",
          "name": "stdout",
          "text": [
            "La probabilidad de que la compañia tenga que pagar 4 reclamaciones es de:  0.17546736976785063\n"
          ]
        }
      ]
    },
    {
      "cell_type": "markdown",
      "source": [
        "Daniel Alonso Perez Macias\n",
        "##EJERCIOS DE TAREA\n",
        "\n",
        "EJERCICIO 1"
      ],
      "metadata": {
        "id": "zGitZZznp-o1"
      }
    },
    {
      "cell_type": "code",
      "source": [
        "from scipy.stats import poisson\n",
        "from scipy.stats import binom\n",
        "\n",
        "#En este problema se emplea la distribución de Poisson, porque no se está\n",
        "#determinando la probabilidad de éxito o fracaso de un evento,\n",
        "#sino que se está evaluando la cantidad de personas que ingresan a un hospital.\n",
        "\n",
        "personas_ing=0\n",
        "media=5\n",
        "dos_ing=2\n",
        "mas_10_ing=10\n",
        "\n",
        "prob_2_ing=poisson.pmf(dos_ing, media)\n",
        "prob_10_ing=1-poisson.cdf(mas_10_ing, media)\n",
        "\n",
        "print(\"Probabilidad de que sean 2 ingresos: \", prob_2_ing)\n",
        "\n",
        "print(\"probabilidad de que sean mas de 10 ingresos: \", prob_10_ing)\n",
        "\n",
        "if(prob_10_ing>0.5):\n",
        "    mayor_10=\"Si\"\n",
        "else:\n",
        "    mayor_10=\"No\"\n",
        "print(\"Es posible que san mayor que 10?, \", mayor_10)\n",
        "\n",
        "#El cálculo de P(X>10) nos indicará si es probable que el número de ingresos\n",
        "#exceda de 10. Generalmente, en una distribución de Poisson con una media de 5,\n",
        "#la probabilidad de que el número de eventos sea mucho mayor que la media tiende\n",
        "#a ser baja, porque la distribución de Poisson está concentrada alrededor de su media."
      ],
      "metadata": {
        "id": "yGRQR1p5maY8",
        "colab": {
          "base_uri": "https://localhost:8080/"
        },
        "outputId": "87e79167-69e7-48d0-c503-56c59d095e80"
      },
      "execution_count": 5,
      "outputs": [
        {
          "output_type": "stream",
          "name": "stdout",
          "text": [
            "Probabilidad de que sean 2 ingresos:  0.08422433748856832\n",
            "probabilidad de que sean mas de 10 ingresos:  0.013695268598382881\n",
            "Es posible que san mayor que 10?,  No\n"
          ]
        }
      ]
    },
    {
      "cell_type": "markdown",
      "source": [
        "EJERCICIO 2\n"
      ],
      "metadata": {
        "id": "UUTeTis-ud5c"
      }
    },
    {
      "cell_type": "code",
      "source": [
        "#en este segundo problema se usa la distribucion binominal devido a que se busca\n",
        "#calcular si un evento es exitoso o no en cierta cantidad de intentos\n",
        "\n",
        "no_satisface=0.001\n",
        "motores=1000\n",
        "probabilidad_0=0\n",
        "probabilidad_3=3\n",
        "probabilidad_4=4\n",
        "\n",
        "p1=binom.pmf(probabilidad_0, motores, no_satisface)\n",
        "p2=binom.pmf(probabilidad_3, motores, no_satisface)\n",
        "p3=binom.pmf(probabilidad_4, motores, no_satisface)\n",
        "\n",
        "print(\"probabilidad de que no haya ningun motor defecutuoso: \",p1)\n",
        "print(\"probabilidad de que haya 3 motores defectuosos: \",p2)\n",
        "print(\"probabilidad de que haya 4 motores defectuosos: \",p3)"
      ],
      "metadata": {
        "id": "Ed3fSzOrufy6",
        "colab": {
          "base_uri": "https://localhost:8080/"
        },
        "outputId": "ca63e148-0a06-42fe-d9f8-dc04eaa328e5"
      },
      "execution_count": 7,
      "outputs": [
        {
          "output_type": "stream",
          "name": "stdout",
          "text": [
            "probabilidad de que no haya ningun motor defecutuoso:  0.3676954247709639\n",
            "probabilidad de que haya 3 motores defectuosos:  0.061282509389840666\n",
            "probabilidad de que haya 4 motores defectuosos:  0.015289955420838651\n"
          ]
        }
      ]
    }
  ]
}